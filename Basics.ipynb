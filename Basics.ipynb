{
 "cells": [
  {
   "cell_type": "markdown",
   "metadata": {},
   "source": [
    "# Want to show something as output: Use print function"
   ]
  },
  {
   "cell_type": "code",
   "execution_count": 1,
   "metadata": {},
   "outputs": [
    {
     "name": "stdout",
     "output_type": "stream",
     "text": [
      "Hello! World\n"
     ]
    }
   ],
   "source": [
    "print(\"Hello! World\")"
   ]
  },
  {
   "cell_type": "markdown",
   "metadata": {},
   "source": [
    "# Variables\n",
    "* Variables are place holders for storing data\n",
    "\n",
    "# Naming a variable\n",
    "Rules for naming Python variables:\n",
    "* A variable name must start with a letter of the underscore character\n",
    "* A variable name cannot start with a number\n",
    "* A variable name can only contain alpha-numeric characters and underscores(A-z, 0-9, and _)\n",
    "* Variable names are case-sensitive (age, Age and AGE are three different variables)\n",
    "* Inbuilt keyword shoul not be used as identifiers"
   ]
  },
  {
   "cell_type": "code",
   "execution_count": 2,
   "metadata": {},
   "outputs": [
    {
     "name": "stdout",
     "output_type": "stream",
     "text": [
      "5\n"
     ]
    }
   ],
   "source": [
    "a = 5\n",
    "print(a)"
   ]
  },
  {
   "cell_type": "code",
   "execution_count": 3,
   "metadata": {},
   "outputs": [
    {
     "ename": "SyntaxError",
     "evalue": "invalid decimal literal (1797576799.py, line 1)",
     "output_type": "error",
     "traceback": [
      "\u001b[1;36m  Cell \u001b[1;32mIn[3], line 1\u001b[1;36m\u001b[0m\n\u001b[1;33m    3a = 34\u001b[0m\n\u001b[1;37m    ^\u001b[0m\n\u001b[1;31mSyntaxError\u001b[0m\u001b[1;31m:\u001b[0m invalid decimal literal\n"
     ]
    }
   ],
   "source": [
    "3a = 34 #SyntaxError: invalid syntax"
   ]
  },
  {
   "cell_type": "code",
   "execution_count": 5,
   "metadata": {},
   "outputs": [
    {
     "name": "stdout",
     "output_type": "stream",
     "text": [
      "45\n"
     ]
    }
   ],
   "source": [
    "#Alpha Numeric Chracters and Underscore\n",
    "name_1 = 45\n",
    "print(name_1)"
   ]
  },
  {
   "cell_type": "code",
   "execution_count": 6,
   "metadata": {},
   "outputs": [
    {
     "name": "stdout",
     "output_type": "stream",
     "text": [
      "\n",
      "Here is a list of the Python keywords.  Enter any keyword to get more help.\n",
      "\n",
      "False               class               from                or\n",
      "None                continue            global              pass\n",
      "True                def                 if                  raise\n",
      "and                 del                 import              return\n",
      "as                  elif                in                  try\n",
      "assert              else                is                  while\n",
      "async               except              lambda              with\n",
      "await               finally             nonlocal            yield\n",
      "break               for                 not                 \n",
      "\n"
     ]
    }
   ],
   "source": [
    "help(\"keywords\")"
   ]
  },
  {
   "cell_type": "code",
   "execution_count": 1,
   "metadata": {},
   "outputs": [
    {
     "ename": "SyntaxError",
     "evalue": "cannot assign to False (1401809920.py, line 1)",
     "output_type": "error",
     "traceback": [
      "\u001b[1;36m  Cell \u001b[1;32mIn[1], line 1\u001b[1;36m\u001b[0m\n\u001b[1;33m    False = 89 # SyntaxError: invalid syntax\u001b[0m\n\u001b[1;37m    ^\u001b[0m\n\u001b[1;31mSyntaxError\u001b[0m\u001b[1;31m:\u001b[0m cannot assign to False\n"
     ]
    }
   ],
   "source": [
    "False = 89 # SyntaxError: invalid syntax"
   ]
  },
  {
   "cell_type": "markdown",
   "metadata": {},
   "source": [
    "# Id function : Returns the reference of the object stored in the variable.\n",
    "* Variables are stored in Stack memory\n",
    "* Values/Objects that are stored in the variables are stored in Heap memory\n",
    "* Variable and it's value assigned are interlinked by reference"
   ]
  },
  {
   "cell_type": "code",
   "execution_count": 2,
   "metadata": {},
   "outputs": [],
   "source": [
    "x = 5"
   ]
  },
  {
   "cell_type": "code",
   "execution_count": 3,
   "metadata": {},
   "outputs": [
    {
     "data": {
      "text/plain": [
       "2202808549744"
      ]
     },
     "execution_count": 3,
     "metadata": {},
     "output_type": "execute_result"
    }
   ],
   "source": [
    "id(x)"
   ]
  },
  {
   "cell_type": "code",
   "execution_count": 4,
   "metadata": {},
   "outputs": [
    {
     "name": "stdout",
     "output_type": "stream",
     "text": [
      "2202808551024\n"
     ]
    }
   ],
   "source": [
    "x = 45\n",
    "print(id(x))"
   ]
  },
  {
   "cell_type": "code",
   "execution_count": 5,
   "metadata": {},
   "outputs": [
    {
     "name": "stdout",
     "output_type": "stream",
     "text": [
      "45\n"
     ]
    }
   ],
   "source": [
    "print(x)"
   ]
  },
  {
   "cell_type": "code",
   "execution_count": 6,
   "metadata": {},
   "outputs": [
    {
     "name": "stdout",
     "output_type": "stream",
     "text": [
      "2202865824880\n"
     ]
    }
   ],
   "source": [
    "name = \"Navneet\"\n",
    "print(id(name))"
   ]
  },
  {
   "cell_type": "markdown",
   "metadata": {},
   "source": [
    "# Comment : These are not iterpreted by the python interperter"
   ]
  },
  {
   "cell_type": "code",
   "execution_count": 7,
   "metadata": {},
   "outputs": [],
   "source": [
    "A = 10 # this is a Comment"
   ]
  },
  {
   "cell_type": "code",
   "execution_count": 8,
   "metadata": {},
   "outputs": [
    {
     "name": "stdout",
     "output_type": "stream",
     "text": [
      "10\n"
     ]
    }
   ],
   "source": [
    "print(A)"
   ]
  },
  {
   "cell_type": "markdown",
   "metadata": {},
   "source": [
    "# Data Types \n",
    "1. Integers\n",
    "2. Floats\n",
    "3. Strings\n",
    "4. Booleans\n",
    "5. None"
   ]
  },
  {
   "cell_type": "code",
   "execution_count": 17,
   "metadata": {},
   "outputs": [
    {
     "name": "stdout",
     "output_type": "stream",
     "text": [
      "24\n"
     ]
    }
   ],
   "source": [
    "# Integers : Non decimal numbers\n",
    "\n",
    "number = 24\n",
    "print(number)"
   ]
  },
  {
   "cell_type": "markdown",
   "metadata": {},
   "source": [
    "# We can check the data type of the variable through type() function"
   ]
  },
  {
   "cell_type": "code",
   "execution_count": 20,
   "metadata": {},
   "outputs": [
    {
     "name": "stdout",
     "output_type": "stream",
     "text": [
      "<class 'int'>\n",
      "24\n"
     ]
    }
   ],
   "source": [
    "print(type(number))\n",
    "print(number)"
   ]
  },
  {
   "cell_type": "code",
   "execution_count": 21,
   "metadata": {},
   "outputs": [
    {
     "name": "stdout",
     "output_type": "stream",
     "text": [
      "1.0\n",
      "<class 'float'>\n"
     ]
    }
   ],
   "source": [
    "# float: Decimal numbers\n",
    "\n",
    "f = 1.0\n",
    "print(f)\n",
    "print(type(f))"
   ]
  },
  {
   "cell_type": "code",
   "execution_count": 22,
   "metadata": {},
   "outputs": [
    {
     "name": "stdout",
     "output_type": "stream",
     "text": [
      "True\n",
      "<class 'bool'>\n"
     ]
    }
   ],
   "source": [
    "# Booleans: True, False\n",
    "B = True\n",
    "print(B)\n",
    "print(type(B))\n"
   ]
  },
  {
   "cell_type": "code",
   "execution_count": 23,
   "metadata": {},
   "outputs": [
    {
     "name": "stdout",
     "output_type": "stream",
     "text": [
      "False\n",
      "<class 'bool'>\n"
     ]
    }
   ],
   "source": [
    "b1 = False\n",
    "print(b1)\n",
    "print(type(b1))"
   ]
  },
  {
   "cell_type": "code",
   "execution_count": 24,
   "metadata": {},
   "outputs": [
    {
     "ename": "NameError",
     "evalue": "name 'true' is not defined",
     "output_type": "error",
     "traceback": [
      "\u001b[1;31m---------------------------------------------------------------------------\u001b[0m",
      "\u001b[1;31mNameError\u001b[0m                                 Traceback (most recent call last)",
      "Cell \u001b[1;32mIn[24], line 1\u001b[0m\n\u001b[1;32m----> 1\u001b[0m b2 \u001b[39m=\u001b[39m true\n\u001b[0;32m      2\u001b[0m \u001b[39mprint\u001b[39m(b2)\n",
      "\u001b[1;31mNameError\u001b[0m: name 'true' is not defined"
     ]
    }
   ],
   "source": [
    "b2 = true\n",
    "print(b2)\n"
   ]
  },
  {
   "cell_type": "code",
   "execution_count": 10,
   "metadata": {},
   "outputs": [
    {
     "name": "stdout",
     "output_type": "stream",
     "text": [
      "Navneet\n",
      "<class 'str'>\n",
      "a\n"
     ]
    }
   ],
   "source": [
    "# String: Sequence of characters\n",
    "# String is immutable\n",
    "# String is ordered\n",
    "# String is iterable\n",
    "# String is a sequence\n",
    "# String is a collection of characters\n",
    "\n",
    "# There are three ways to create a string\n",
    "# 1. Using single quotes: Single quotes are used to create a single line string\n",
    "# 2. Using double quotes: Double quotes are used to create a single line string\n",
    "# 3. Using triple quotes: Triple quotes are used to create a multi line string\n",
    "\n",
    "s = \"Navneet\"\n",
    "print(s)\n",
    "print(type(s))\n",
    "print(s[1])"
   ]
  },
  {
   "cell_type": "code",
   "execution_count": 29,
   "metadata": {},
   "outputs": [
    {
     "name": "stdout",
     "output_type": "stream",
     "text": [
      "Navneet\n",
      "<class 'str'>\n"
     ]
    }
   ],
   "source": [
    "# Single-Line Statement and String\n",
    "str = 'Navneet'\n",
    "print(str)\n",
    "print(type(str))"
   ]
  },
  {
   "cell_type": "code",
   "execution_count": 11,
   "metadata": {},
   "outputs": [
    {
     "ename": "SyntaxError",
     "evalue": "unterminated string literal (detected at line 1) (1628328253.py, line 1)",
     "output_type": "error",
     "traceback": [
      "\u001b[1;36m  Cell \u001b[1;32mIn[11], line 1\u001b[1;36m\u001b[0m\n\u001b[1;33m    str1 = \"Navneet'\u001b[0m\n\u001b[1;37m           ^\u001b[0m\n\u001b[1;31mSyntaxError\u001b[0m\u001b[1;31m:\u001b[0m unterminated string literal (detected at line 1)\n"
     ]
    }
   ],
   "source": [
    "str1 = \"Navneet' "
   ]
  },
  {
   "cell_type": "code",
   "execution_count": 31,
   "metadata": {},
   "outputs": [
    {
     "name": "stdout",
     "output_type": "stream",
     "text": [
      "This is a multi-line string. This is the first line.\n",
      "This is the second line.\n",
      "\"What's your name?,\" I asked.\n",
      "He said \"Bond, James Bond.\"\n",
      "<class 'str'>\n"
     ]
    }
   ],
   "source": [
    "# Multi-Line Statements and Strings\n",
    "m = '''This is a multi-line string. This is the first line.\n",
    "This is the second line.\n",
    "\"What's your name?,\" I asked.\n",
    "He said \"Bond, James Bond.\"'''\n",
    "print(m)\n",
    "print(type(m))"
   ]
  },
  {
   "cell_type": "code",
   "execution_count": 32,
   "metadata": {},
   "outputs": [
    {
     "name": "stdout",
     "output_type": "stream",
     "text": [
      "None\n",
      "<class 'NoneType'>\n"
     ]
    }
   ],
   "source": [
    "#None\n",
    "n = None\n",
    "print(n)\n",
    "print(type(n))"
   ]
  },
  {
   "cell_type": "markdown",
   "metadata": {},
   "source": [
    "# Input Function: Used to take input from the user\n",
    "* By default it take input as a string type"
   ]
  },
  {
   "cell_type": "code",
   "execution_count": 33,
   "metadata": {},
   "outputs": [
    {
     "name": "stdout",
     "output_type": "stream",
     "text": [
      "Hello, Navneet!\n",
      "Hello, Navneet!\n",
      "Hello, Navneet!\n",
      "<class 'str'>\n"
     ]
    }
   ],
   "source": [
    "# If you want to take input as string, use input() function\n",
    "\n",
    "name = input(\"What is your name? \") # input() is a built-in function\n",
    "print(\"Hello, \" + name + \"!\") # + is the concatenation operator\n",
    "print(\"Hello, {}!\".format(name)) # string formatting\n",
    "print(f\"Hello, {name}!\") # f-strings\n",
    "print(type(name)) # type() returns the type of an object"
   ]
  },
  {
   "cell_type": "code",
   "execution_count": 34,
   "metadata": {},
   "outputs": [
    {
     "name": "stdout",
     "output_type": "stream",
     "text": [
      "3\n",
      "<class 'str'>\n"
     ]
    }
   ],
   "source": [
    "# If you want to take input as a number, you have to convert it into int or float\n",
    "num = input(\"Enter a number: \")\n",
    "print(num)\n",
    "print(type(num))"
   ]
  },
  {
   "cell_type": "markdown",
   "metadata": {},
   "source": [
    "# So we can see that we gave the input as number but the type of the data is considered as string"
   ]
  },
  {
   "cell_type": "code",
   "execution_count": 12,
   "metadata": {},
   "outputs": [
    {
     "name": "stdout",
     "output_type": "stream",
     "text": [
      "Value of num1 is: 11\n",
      "<class 'int'>\n",
      "\n",
      "Value of num2 is:  12.0\n",
      "<class 'float'>\n"
     ]
    }
   ],
   "source": [
    "# In order to tackel the above problem, we need to explicitly convert the data type of input data to int or float.\n",
    "num1 = int(input(\"Enter first number: \"))\n",
    "num2 = float(input(\"Enter second number: \"))\n",
    "\n",
    "print(\"Value of num1 is:\",num1)\n",
    "print(type(num1))\n",
    "\n",
    "print()\n",
    "\n",
    "print(\"Value of num2 is: \", num2)\n",
    "print(type(num2))"
   ]
  },
  {
   "cell_type": "markdown",
   "metadata": {},
   "source": [
    "# The above conversion of data type from one to another is known as Type Conversion"
   ]
  },
  {
   "cell_type": "code",
   "execution_count": 13,
   "metadata": {},
   "outputs": [
    {
     "name": "stdout",
     "output_type": "stream",
     "text": [
      "Navneet2\n",
      "<class 'str'>\n"
     ]
    }
   ],
   "source": [
    "# Now let us take an example were we had stored a string in a variable and we want to convert it into a integer.\n",
    "\n",
    "a = \"Navneet2\"\n",
    "print(a)\n",
    "print(type(a))"
   ]
  },
  {
   "cell_type": "code",
   "execution_count": 14,
   "metadata": {},
   "outputs": [
    {
     "ename": "ValueError",
     "evalue": "invalid literal for int() with base 10: 'Navneet2'",
     "output_type": "error",
     "traceback": [
      "\u001b[1;31m---------------------------------------------------------------------------\u001b[0m",
      "\u001b[1;31mValueError\u001b[0m                                Traceback (most recent call last)",
      "Cell \u001b[1;32mIn[14], line 4\u001b[0m\n\u001b[0;32m      1\u001b[0m \u001b[39m# To convert it into integer type we use int() function\u001b[39;00m\n\u001b[0;32m      2\u001b[0m \u001b[39m# To convert it into float type we use float() function\u001b[39;00m\n\u001b[1;32m----> 4\u001b[0m \u001b[39mint\u001b[39;49m(a) \n",
      "\u001b[1;31mValueError\u001b[0m: invalid literal for int() with base 10: 'Navneet2'"
     ]
    }
   ],
   "source": [
    "# To convert it into integer type we use int() function\n",
    "# To convert it into float type we use float() function\n",
    "\n",
    "int(a) "
   ]
  },
  {
   "cell_type": "markdown",
   "metadata": {},
   "source": [
    "# We got an error because it can convert alphanumeric or alphabet into number"
   ]
  },
  {
   "cell_type": "code",
   "execution_count": 41,
   "metadata": {},
   "outputs": [
    {
     "name": "stdout",
     "output_type": "stream",
     "text": [
      "123\n",
      "<class 'int'>\n"
     ]
    }
   ],
   "source": [
    "aa = '123'\n",
    "c = int(aa)\n",
    "print(c)\n",
    "print(type(c))"
   ]
  },
  {
   "cell_type": "code",
   "execution_count": 43,
   "metadata": {},
   "outputs": [
    {
     "ename": "ValueError",
     "evalue": "invalid literal for int() with base 10: '1.5'",
     "output_type": "error",
     "traceback": [
      "\u001b[1;31m---------------------------------------------------------------------------\u001b[0m",
      "\u001b[1;31mValueError\u001b[0m                                Traceback (most recent call last)",
      "Cell \u001b[1;32mIn[43], line 7\u001b[0m\n\u001b[0;32m      1\u001b[0m \u001b[39m# Can we convert a string 1.5 to a int?\u001b[39;00m\n\u001b[0;32m      2\u001b[0m \u001b[39m# What about a string 1.5 to a float?\u001b[39;00m\n\u001b[0;32m      3\u001b[0m \u001b[39m# What about a string 1.5 to a complex number?\u001b[39;00m\n\u001b[0;32m      4\u001b[0m \u001b[39m# What about a string 1.5 to a boolean?\u001b[39;00m\n\u001b[0;32m      6\u001b[0m ff \u001b[39m=\u001b[39m \u001b[39m'\u001b[39m\u001b[39m1.5\u001b[39m\u001b[39m'\u001b[39m\n\u001b[1;32m----> 7\u001b[0m ff \u001b[39m=\u001b[39m \u001b[39mint\u001b[39;49m(ff)\n\u001b[0;32m      8\u001b[0m \u001b[39mprint\u001b[39m(ff)\n\u001b[0;32m      9\u001b[0m \u001b[39mprint\u001b[39m(\u001b[39mtype\u001b[39m(ff))\n",
      "\u001b[1;31mValueError\u001b[0m: invalid literal for int() with base 10: '1.5'"
     ]
    }
   ],
   "source": [
    "# Can we convert a string 1.5 to a int?\n",
    "# What about a string 1.5 to a float?\n",
    "# What about a string 1.5 to a complex number?\n",
    "# What about a string 1.5 to a boolean?\n",
    "\n",
    "ff = '1.5'\n",
    "ff = int(ff)\n",
    "print(ff)\n",
    "print(type(ff))"
   ]
  },
  {
   "cell_type": "markdown",
   "metadata": {},
   "source": [
    "# Since we can't convert string type of variable containing float value directly into string. \n",
    "* First we have to convert this type of value into float and then into int"
   ]
  },
  {
   "cell_type": "code",
   "execution_count": 44,
   "metadata": {},
   "outputs": [
    {
     "name": "stdout",
     "output_type": "stream",
     "text": [
      "1.5\n",
      "<class 'float'>\n"
     ]
    }
   ],
   "source": [
    "ff = '1.5'\n",
    "ff = float(ff)\n",
    "print(ff)\n",
    "print(type(ff))"
   ]
  },
  {
   "cell_type": "code",
   "execution_count": 45,
   "metadata": {},
   "outputs": [
    {
     "name": "stdout",
     "output_type": "stream",
     "text": [
      "1\n",
      "<class 'int'>\n"
     ]
    }
   ],
   "source": [
    "ff = int(ff)\n",
    "print(ff)\n",
    "print(type(ff))"
   ]
  },
  {
   "cell_type": "code",
   "execution_count": 46,
   "metadata": {},
   "outputs": [
    {
     "name": "stdout",
     "output_type": "stream",
     "text": [
      "Hello World How are you 1 2 3 4\n"
     ]
    }
   ],
   "source": [
    "# Printin multiple function through single print statement\n",
    "\n",
    "print(\"Hello\", \"World\", \"How\", \"are\", \"you\", 1, 2, 3, 4)"
   ]
  },
  {
   "cell_type": "code",
   "execution_count": 53,
   "metadata": {},
   "outputs": [
    {
     "name": "stdout",
     "output_type": "stream",
     "text": [
      "\u001b[1;31mDocstring:\u001b[0m\n",
      "print(value, ..., sep=' ', end='\\n', file=sys.stdout, flush=False)\n",
      "\n",
      "Prints the values to a stream, or to sys.stdout by default.\n",
      "Optional keyword arguments:\n",
      "file:  a file-like object (stream); defaults to the current sys.stdout.\n",
      "sep:   string inserted between values, default a space.\n",
      "end:   string appended after the last value, default a newline.\n",
      "flush: whether to forcibly flush the stream.\n",
      "\u001b[1;31mType:\u001b[0m      builtin_function_or_method"
     ]
    }
   ],
   "source": [
    "# Default Separator and End of Line in print() function\n",
    "print?\n",
    "# ?: Help on built-in function print in module builtins:"
   ]
  },
  {
   "cell_type": "markdown",
   "metadata": {},
   "source": [
    "# So, you can see that there is two parameter named sep and end in print function above.\n",
    "* Sep: Tells how to seperate the values. By default it is seperated by space ' '.\n",
    "* End: Tells how to end the line."
   ]
  },
  {
   "cell_type": "code",
   "execution_count": 54,
   "metadata": {},
   "outputs": [
    {
     "name": "stdout",
     "output_type": "stream",
     "text": [
      "Navneet Shandilya\n",
      "Iron Man\n"
     ]
    }
   ],
   "source": [
    "print('Navneet', 'Shandilya')\n",
    "print('Iron', \"Man\")"
   ]
  },
  {
   "cell_type": "code",
   "execution_count": 16,
   "metadata": {},
   "outputs": [
    {
     "name": "stdout",
     "output_type": "stream",
     "text": [
      "Navneet->Shandilya\n",
      "Iron*Man\n"
     ]
    }
   ],
   "source": [
    "print(\"Navneet\", \"Shandilya\", sep=\"->\")\n",
    "print('Iron', \"Man\", sep=\"*\")"
   ]
  },
  {
   "cell_type": "code",
   "execution_count": 59,
   "metadata": {},
   "outputs": [
    {
     "name": "stdout",
     "output_type": "stream",
     "text": [
      "Navneet\n",
      "Shandilya\n",
      "Iron->Man\n"
     ]
    }
   ],
   "source": [
    "print('Navneet', 'Shandilya', sep='\\n')\n",
    "print('Iron', \"Man\", sep='->')"
   ]
  },
  {
   "cell_type": "code",
   "execution_count": 60,
   "metadata": {},
   "outputs": [
    {
     "name": "stdout",
     "output_type": "stream",
     "text": [
      "Hello\n",
      "World\n",
      "How\n",
      "are\n",
      "you\n",
      "1\n",
      "2\n",
      "3\n",
      "4\n"
     ]
    }
   ],
   "source": [
    "print(\"Hello\", \"World\", \"How\", \"are\", \"you\", 1, 2, 3, 4, sep = \"\\n\")"
   ]
  },
  {
   "cell_type": "code",
   "execution_count": 61,
   "metadata": {},
   "outputs": [
    {
     "name": "stdout",
     "output_type": "stream",
     "text": [
      "Navneet Shandilya Iron Man "
     ]
    }
   ],
   "source": [
    "print('Navneet', 'Shandilya', end = \" \")\n",
    "print('Iron', \"Man\", end = \" \")"
   ]
  },
  {
   "cell_type": "code",
   "execution_count": 18,
   "metadata": {},
   "outputs": [
    {
     "name": "stdout",
     "output_type": "stream",
     "text": [
      "Navneet->Shandilya Iron->Man\n"
     ]
    }
   ],
   "source": [
    "print('Navneet', 'Shandilya', end=' ', sep='->')\n",
    "print('Iron', \"Man\", sep='->')"
   ]
  },
  {
   "cell_type": "code",
   "execution_count": null,
   "metadata": {},
   "outputs": [],
   "source": []
  }
 ],
 "metadata": {
  "kernelspec": {
   "display_name": "base",
   "language": "python",
   "name": "python3"
  },
  "language_info": {
   "codemirror_mode": {
    "name": "ipython",
    "version": 3
   },
   "file_extension": ".py",
   "mimetype": "text/x-python",
   "name": "python",
   "nbconvert_exporter": "python",
   "pygments_lexer": "ipython3",
   "version": "3.10.9"
  },
  "orig_nbformat": 4
 },
 "nbformat": 4,
 "nbformat_minor": 2
}
